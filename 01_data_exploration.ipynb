{
 "cells": [
  {
   "cell_type": "code",
   "execution_count": 1,
   "id": "e0223d2b-9277-45f0-b1df-ded492ec19a3",
   "metadata": {},
   "outputs": [],
   "source": [
    "# Import libraries\n",
    "import pandas as pd\n",
    "import matplotlib.pyplot as plt\n",
    "import seaborn as sns\n",
    "import pandas as pd\n"
   ]
  },
  {
   "cell_type": "code",
   "execution_count": 2,
   "id": "f76af64d-a83d-4716-8f37-2a04ec9a3316",
   "metadata": {},
   "outputs": [
    {
     "name": "stderr",
     "output_type": "stream",
     "text": [
      "/tmp/ipykernel_41892/1837239707.py:2: DtypeWarning: Columns (15,16,17) have mixed types. Specify dtype option on import or set low_memory=False.\n",
      "  df = pd.read_csv('data/crime_data.csv')\n"
     ]
    }
   ],
   "source": [
    "# Load the data into a DataFrame\n",
    "df = pd.read_csv('data/crime_data.csv')"
   ]
  },
  {
   "cell_type": "code",
   "execution_count": 3,
   "id": "cb3bcff4-fa7d-4b3d-94fc-63bd7345c85e",
   "metadata": {},
   "outputs": [
    {
     "data": {
      "text/html": [
       "<div>\n",
       "<style scoped>\n",
       "    .dataframe tbody tr th:only-of-type {\n",
       "        vertical-align: middle;\n",
       "    }\n",
       "\n",
       "    .dataframe tbody tr th {\n",
       "        vertical-align: top;\n",
       "    }\n",
       "\n",
       "    .dataframe thead th {\n",
       "        text-align: right;\n",
       "    }\n",
       "</style>\n",
       "<table border=\"1\" class=\"dataframe\">\n",
       "  <thead>\n",
       "    <tr style=\"text-align: right;\">\n",
       "      <th></th>\n",
       "      <th>OBJECTID</th>\n",
       "      <th>Report Number</th>\n",
       "      <th>Report Date</th>\n",
       "      <th>Offense Start Date</th>\n",
       "      <th>Offense End Date</th>\n",
       "      <th>Day of the week</th>\n",
       "      <th>Day Number</th>\n",
       "      <th>Zone</th>\n",
       "      <th>Beat</th>\n",
       "      <th>Location</th>\n",
       "      <th>...</th>\n",
       "      <th>Longitude</th>\n",
       "      <th>Latitude</th>\n",
       "      <th>Neighborhood</th>\n",
       "      <th>NPU</th>\n",
       "      <th>Council District</th>\n",
       "      <th>UCR Grouping</th>\n",
       "      <th>Victim Count</th>\n",
       "      <th>GlobalID</th>\n",
       "      <th>x</th>\n",
       "      <th>y</th>\n",
       "    </tr>\n",
       "  </thead>\n",
       "  <tbody>\n",
       "    <tr>\n",
       "      <th>0</th>\n",
       "      <td>1</td>\n",
       "      <td>21365171</td>\n",
       "      <td>12/31/2021 8:20:15 AM</td>\n",
       "      <td>12/31/2021 7:15:00 AM</td>\n",
       "      <td>12/31/2021 7:45:00 AM</td>\n",
       "      <td>Friday</td>\n",
       "      <td>6</td>\n",
       "      <td>6</td>\n",
       "      <td>604</td>\n",
       "      <td>111 BOULEVARD NE</td>\n",
       "      <td>...</td>\n",
       "      <td>-84.371743</td>\n",
       "      <td>33.757320</td>\n",
       "      <td>Old Fourth Ward</td>\n",
       "      <td>M</td>\n",
       "      <td>2.0</td>\n",
       "      <td>Part II</td>\n",
       "      <td>NaN</td>\n",
       "      <td>7e30cbbb-4392-47ba-8311-b1ad817105e9</td>\n",
       "      <td>-84.371743</td>\n",
       "      <td>33.757320</td>\n",
       "    </tr>\n",
       "    <tr>\n",
       "      <th>1</th>\n",
       "      <td>2</td>\n",
       "      <td>21791668</td>\n",
       "      <td>6/29/2021 12:58:09 AM</td>\n",
       "      <td>6/28/2021 1:17:00 AM</td>\n",
       "      <td>6/29/2021 12:00:00 AM</td>\n",
       "      <td>Sunday</td>\n",
       "      <td>1</td>\n",
       "      <td>1</td>\n",
       "      <td>102</td>\n",
       "      <td>870 MAYSON TURNER RD NW</td>\n",
       "      <td>...</td>\n",
       "      <td>-84.416631</td>\n",
       "      <td>33.755768</td>\n",
       "      <td>Vine City</td>\n",
       "      <td>L</td>\n",
       "      <td>3.0</td>\n",
       "      <td>Part I</td>\n",
       "      <td>NaN</td>\n",
       "      <td>104a1262-ef8a-4478-b776-1594a7206307</td>\n",
       "      <td>-84.416631</td>\n",
       "      <td>33.755768</td>\n",
       "    </tr>\n",
       "    <tr>\n",
       "      <th>2</th>\n",
       "      <td>3</td>\n",
       "      <td>22041413</td>\n",
       "      <td>2/14/2022 8:26:21 PM</td>\n",
       "      <td>1/25/2022 1:50:00 PM</td>\n",
       "      <td>1/25/2022 2:15:00 PM</td>\n",
       "      <td>Tuesday</td>\n",
       "      <td>3</td>\n",
       "      <td>3</td>\n",
       "      <td>304</td>\n",
       "      <td>1192 PRYOR RD SW</td>\n",
       "      <td>...</td>\n",
       "      <td>-84.392803</td>\n",
       "      <td>33.722882</td>\n",
       "      <td>Peoplestown</td>\n",
       "      <td>V</td>\n",
       "      <td>12.0</td>\n",
       "      <td>Part II</td>\n",
       "      <td>1.0</td>\n",
       "      <td>5784d36f-0839-4795-9d8b-370e59eb72b0</td>\n",
       "      <td>-84.392803</td>\n",
       "      <td>33.722882</td>\n",
       "    </tr>\n",
       "    <tr>\n",
       "      <th>3</th>\n",
       "      <td>4</td>\n",
       "      <td>193390123</td>\n",
       "      <td>6/24/2021 10:14:31 AM</td>\n",
       "      <td>12/5/2019 6:14:00 AM</td>\n",
       "      <td>12/5/2019 6:40:00 AM</td>\n",
       "      <td>Thursday</td>\n",
       "      <td>5</td>\n",
       "      <td>2</td>\n",
       "      <td>211</td>\n",
       "      <td>I-85 S / GA-400 S</td>\n",
       "      <td>...</td>\n",
       "      <td>-84.361660</td>\n",
       "      <td>33.819430</td>\n",
       "      <td>Lindbergh/Morosgo</td>\n",
       "      <td>B</td>\n",
       "      <td>6.0</td>\n",
       "      <td>Part II</td>\n",
       "      <td>NaN</td>\n",
       "      <td>6217e790-ded9-421c-9ac1-eb31f53f0894</td>\n",
       "      <td>-84.361660</td>\n",
       "      <td>33.819430</td>\n",
       "    </tr>\n",
       "    <tr>\n",
       "      <th>4</th>\n",
       "      <td>5</td>\n",
       "      <td>202771329</td>\n",
       "      <td>8/19/2021 9:53:50 PM</td>\n",
       "      <td>10/3/2020 8:29:00 PM</td>\n",
       "      <td>10/3/2020 8:29:00 PM</td>\n",
       "      <td>Saturday</td>\n",
       "      <td>7</td>\n",
       "      <td>1</td>\n",
       "      <td>109</td>\n",
       "      <td>665 S GRAND AVE NW</td>\n",
       "      <td>...</td>\n",
       "      <td>-84.462521</td>\n",
       "      <td>33.773181</td>\n",
       "      <td>Center Hill</td>\n",
       "      <td>J</td>\n",
       "      <td>9.0</td>\n",
       "      <td>Part I</td>\n",
       "      <td>1.0</td>\n",
       "      <td>44add9cf-98ce-4910-8884-ab3c9b3fbaf7</td>\n",
       "      <td>-84.462521</td>\n",
       "      <td>33.773181</td>\n",
       "    </tr>\n",
       "  </tbody>\n",
       "</table>\n",
       "<p>5 rows × 28 columns</p>\n",
       "</div>"
      ],
      "text/plain": [
       "   OBJECTID  Report Number            Report Date     Offense Start Date  \\\n",
       "0         1       21365171  12/31/2021 8:20:15 AM  12/31/2021 7:15:00 AM   \n",
       "1         2       21791668  6/29/2021 12:58:09 AM   6/28/2021 1:17:00 AM   \n",
       "2         3       22041413   2/14/2022 8:26:21 PM   1/25/2022 1:50:00 PM   \n",
       "3         4      193390123  6/24/2021 10:14:31 AM   12/5/2019 6:14:00 AM   \n",
       "4         5      202771329   8/19/2021 9:53:50 PM   10/3/2020 8:29:00 PM   \n",
       "\n",
       "        Offense End Date Day of the week  Day Number  Zone Beat  \\\n",
       "0  12/31/2021 7:45:00 AM          Friday           6     6  604   \n",
       "1  6/29/2021 12:00:00 AM          Sunday           1     1  102   \n",
       "2   1/25/2022 2:15:00 PM         Tuesday           3     3  304   \n",
       "3   12/5/2019 6:40:00 AM        Thursday           5     2  211   \n",
       "4   10/3/2020 8:29:00 PM        Saturday           7     1  109   \n",
       "\n",
       "                  Location  ...  Longitude   Latitude       Neighborhood NPU  \\\n",
       "0         111 BOULEVARD NE  ... -84.371743  33.757320    Old Fourth Ward   M   \n",
       "1  870 MAYSON TURNER RD NW  ... -84.416631  33.755768          Vine City   L   \n",
       "2         1192 PRYOR RD SW  ... -84.392803  33.722882        Peoplestown   V   \n",
       "3        I-85 S / GA-400 S  ... -84.361660  33.819430  Lindbergh/Morosgo   B   \n",
       "4       665 S GRAND AVE NW  ... -84.462521  33.773181        Center Hill   J   \n",
       "\n",
       "  Council District UCR Grouping Victim Count  \\\n",
       "0              2.0      Part II          NaN   \n",
       "1              3.0       Part I          NaN   \n",
       "2             12.0      Part II          1.0   \n",
       "3              6.0      Part II          NaN   \n",
       "4              9.0       Part I          1.0   \n",
       "\n",
       "                               GlobalID          x          y  \n",
       "0  7e30cbbb-4392-47ba-8311-b1ad817105e9 -84.371743  33.757320  \n",
       "1  104a1262-ef8a-4478-b776-1594a7206307 -84.416631  33.755768  \n",
       "2  5784d36f-0839-4795-9d8b-370e59eb72b0 -84.392803  33.722882  \n",
       "3  6217e790-ded9-421c-9ac1-eb31f53f0894 -84.361660  33.819430  \n",
       "4  44add9cf-98ce-4910-8884-ab3c9b3fbaf7 -84.462521  33.773181  \n",
       "\n",
       "[5 rows x 28 columns]"
      ]
     },
     "execution_count": 3,
     "metadata": {},
     "output_type": "execute_result"
    }
   ],
   "source": [
    "# Display the first few rows of the DataFrame\n",
    "df.head()"
   ]
  },
  {
   "cell_type": "code",
   "execution_count": 4,
   "id": "176fa3fe-3bd8-4ef3-8ed9-8cae4e03bd33",
   "metadata": {},
   "outputs": [
    {
     "name": "stdout",
     "output_type": "stream",
     "text": [
      "<class 'pandas.core.frame.DataFrame'>\n",
      "RangeIndex: 141703 entries, 0 to 141702\n",
      "Data columns (total 28 columns):\n",
      " #   Column                   Non-Null Count   Dtype  \n",
      "---  ------                   --------------   -----  \n",
      " 0   OBJECTID                 141703 non-null  int64  \n",
      " 1   Report Number            141703 non-null  int64  \n",
      " 2   Report Date              141703 non-null  object \n",
      " 3   Offense Start Date       141342 non-null  object \n",
      " 4   Offense End Date         138134 non-null  object \n",
      " 5   Day of the week          141703 non-null  object \n",
      " 6   Day Number               141703 non-null  int64  \n",
      " 7   Zone                     141703 non-null  int64  \n",
      " 8   Beat                     141674 non-null  object \n",
      " 9   Location                 141694 non-null  object \n",
      " 10  Location Type            141692 non-null  object \n",
      " 11  NIBRS Code               141703 non-null  object \n",
      " 12  NIBRS Code Name          141703 non-null  object \n",
      " 13  Crime Against            141703 non-null  object \n",
      " 14  Was a firearm involved?  141703 non-null  object \n",
      " 15  Press Release            540 non-null     object \n",
      " 16  Social Media             42 non-null      object \n",
      " 17  Watch                    119551 non-null  object \n",
      " 18  Longitude                141703 non-null  float64\n",
      " 19  Latitude                 141703 non-null  float64\n",
      " 20  Neighborhood             131102 non-null  object \n",
      " 21  NPU                      136369 non-null  object \n",
      " 22  Council District         136368 non-null  float64\n",
      " 23  UCR Grouping             141703 non-null  object \n",
      " 24  Victim Count             83953 non-null   float64\n",
      " 25  GlobalID                 141703 non-null  object \n",
      " 26  x                        141703 non-null  float64\n",
      " 27  y                        141703 non-null  float64\n",
      "dtypes: float64(6), int64(4), object(18)\n",
      "memory usage: 30.3+ MB\n"
     ]
    }
   ],
   "source": [
    "# Check data types and non-null values\n",
    "df.info()"
   ]
  },
  {
   "cell_type": "code",
   "execution_count": 5,
   "id": "62a7ca0b-fa42-4a60-898b-ad73d700e303",
   "metadata": {},
   "outputs": [
    {
     "data": {
      "text/html": [
       "<div>\n",
       "<style scoped>\n",
       "    .dataframe tbody tr th:only-of-type {\n",
       "        vertical-align: middle;\n",
       "    }\n",
       "\n",
       "    .dataframe tbody tr th {\n",
       "        vertical-align: top;\n",
       "    }\n",
       "\n",
       "    .dataframe thead th {\n",
       "        text-align: right;\n",
       "    }\n",
       "</style>\n",
       "<table border=\"1\" class=\"dataframe\">\n",
       "  <thead>\n",
       "    <tr style=\"text-align: right;\">\n",
       "      <th></th>\n",
       "      <th>OBJECTID</th>\n",
       "      <th>Report Number</th>\n",
       "      <th>Day Number</th>\n",
       "      <th>Zone</th>\n",
       "      <th>Longitude</th>\n",
       "      <th>Latitude</th>\n",
       "      <th>Council District</th>\n",
       "      <th>Victim Count</th>\n",
       "      <th>x</th>\n",
       "      <th>y</th>\n",
       "    </tr>\n",
       "  </thead>\n",
       "  <tbody>\n",
       "    <tr>\n",
       "      <th>count</th>\n",
       "      <td>1.417030e+05</td>\n",
       "      <td>1.417030e+05</td>\n",
       "      <td>141703.000000</td>\n",
       "      <td>141703.000000</td>\n",
       "      <td>141703.000000</td>\n",
       "      <td>141703.000000</td>\n",
       "      <td>136368.000000</td>\n",
       "      <td>83953.000000</td>\n",
       "      <td>141703.000000</td>\n",
       "      <td>141703.000000</td>\n",
       "    </tr>\n",
       "    <tr>\n",
       "      <th>mean</th>\n",
       "      <td>6.003258e+05</td>\n",
       "      <td>2.243467e+08</td>\n",
       "      <td>4.090344</td>\n",
       "      <td>3.760979</td>\n",
       "      <td>-84.406432</td>\n",
       "      <td>33.757067</td>\n",
       "      <td>6.025409</td>\n",
       "      <td>1.194466</td>\n",
       "      <td>-84.406432</td>\n",
       "      <td>33.757067</td>\n",
       "    </tr>\n",
       "    <tr>\n",
       "      <th>std</th>\n",
       "      <td>6.651232e+05</td>\n",
       "      <td>1.015839e+07</td>\n",
       "      <td>1.996503</td>\n",
       "      <td>1.785790</td>\n",
       "      <td>0.056579</td>\n",
       "      <td>0.056054</td>\n",
       "      <td>3.488494</td>\n",
       "      <td>0.815059</td>\n",
       "      <td>0.056579</td>\n",
       "      <td>0.056054</td>\n",
       "    </tr>\n",
       "    <tr>\n",
       "      <th>min</th>\n",
       "      <td>1.000000e+00</td>\n",
       "      <td>2.114010e+07</td>\n",
       "      <td>1.000000</td>\n",
       "      <td>0.000000</td>\n",
       "      <td>-91.155152</td>\n",
       "      <td>28.077056</td>\n",
       "      <td>1.000000</td>\n",
       "      <td>1.000000</td>\n",
       "      <td>-91.155152</td>\n",
       "      <td>28.077056</td>\n",
       "    </tr>\n",
       "    <tr>\n",
       "      <th>25%</th>\n",
       "      <td>3.542650e+04</td>\n",
       "      <td>2.132510e+08</td>\n",
       "      <td>2.000000</td>\n",
       "      <td>2.000000</td>\n",
       "      <td>-84.429698</td>\n",
       "      <td>33.732094</td>\n",
       "      <td>3.000000</td>\n",
       "      <td>1.000000</td>\n",
       "      <td>-84.429698</td>\n",
       "      <td>33.732094</td>\n",
       "    </tr>\n",
       "    <tr>\n",
       "      <th>50%</th>\n",
       "      <td>7.085300e+04</td>\n",
       "      <td>2.227016e+08</td>\n",
       "      <td>4.000000</td>\n",
       "      <td>4.000000</td>\n",
       "      <td>-84.394945</td>\n",
       "      <td>33.757881</td>\n",
       "      <td>5.000000</td>\n",
       "      <td>1.000000</td>\n",
       "      <td>-84.394945</td>\n",
       "      <td>33.757881</td>\n",
       "    </tr>\n",
       "    <tr>\n",
       "      <th>75%</th>\n",
       "      <td>1.186214e+06</td>\n",
       "      <td>2.321203e+08</td>\n",
       "      <td>6.000000</td>\n",
       "      <td>5.000000</td>\n",
       "      <td>-84.374292</td>\n",
       "      <td>33.785274</td>\n",
       "      <td>9.000000</td>\n",
       "      <td>1.000000</td>\n",
       "      <td>-84.374292</td>\n",
       "      <td>33.785274</td>\n",
       "    </tr>\n",
       "    <tr>\n",
       "      <th>max</th>\n",
       "      <td>1.745436e+06</td>\n",
       "      <td>9.515853e+08</td>\n",
       "      <td>7.000000</td>\n",
       "      <td>7.000000</td>\n",
       "      <td>-74.117852</td>\n",
       "      <td>40.607613</td>\n",
       "      <td>12.000000</td>\n",
       "      <td>61.000000</td>\n",
       "      <td>-74.117852</td>\n",
       "      <td>40.607613</td>\n",
       "    </tr>\n",
       "  </tbody>\n",
       "</table>\n",
       "</div>"
      ],
      "text/plain": [
       "           OBJECTID  Report Number     Day Number           Zone  \\\n",
       "count  1.417030e+05   1.417030e+05  141703.000000  141703.000000   \n",
       "mean   6.003258e+05   2.243467e+08       4.090344       3.760979   \n",
       "std    6.651232e+05   1.015839e+07       1.996503       1.785790   \n",
       "min    1.000000e+00   2.114010e+07       1.000000       0.000000   \n",
       "25%    3.542650e+04   2.132510e+08       2.000000       2.000000   \n",
       "50%    7.085300e+04   2.227016e+08       4.000000       4.000000   \n",
       "75%    1.186214e+06   2.321203e+08       6.000000       5.000000   \n",
       "max    1.745436e+06   9.515853e+08       7.000000       7.000000   \n",
       "\n",
       "           Longitude       Latitude  Council District  Victim Count  \\\n",
       "count  141703.000000  141703.000000     136368.000000  83953.000000   \n",
       "mean      -84.406432      33.757067          6.025409      1.194466   \n",
       "std         0.056579       0.056054          3.488494      0.815059   \n",
       "min       -91.155152      28.077056          1.000000      1.000000   \n",
       "25%       -84.429698      33.732094          3.000000      1.000000   \n",
       "50%       -84.394945      33.757881          5.000000      1.000000   \n",
       "75%       -84.374292      33.785274          9.000000      1.000000   \n",
       "max       -74.117852      40.607613         12.000000     61.000000   \n",
       "\n",
       "                   x              y  \n",
       "count  141703.000000  141703.000000  \n",
       "mean      -84.406432      33.757067  \n",
       "std         0.056579       0.056054  \n",
       "min       -91.155152      28.077056  \n",
       "25%       -84.429698      33.732094  \n",
       "50%       -84.394945      33.757881  \n",
       "75%       -84.374292      33.785274  \n",
       "max       -74.117852      40.607613  "
      ]
     },
     "execution_count": 5,
     "metadata": {},
     "output_type": "execute_result"
    }
   ],
   "source": [
    "# Get summary statistics for numerical columns\n",
    "df.describe()"
   ]
  },
  {
   "cell_type": "code",
   "execution_count": 6,
   "id": "b8bcbdf2-5356-41e7-88c5-a8da6fc2b8fd",
   "metadata": {},
   "outputs": [
    {
     "name": "stdout",
     "output_type": "stream",
     "text": [
      "Index(['OBJECTID', 'Report Number', 'Report Date', 'Offense Start Date',\n",
      "       'Offense End Date', 'Day of the week', 'Day Number', 'Zone', 'Beat',\n",
      "       'Location', 'Location Type', 'NIBRS Code', 'NIBRS Code Name',\n",
      "       'Crime Against', 'Was a firearm involved?', 'Press Release',\n",
      "       'Social Media', 'Watch', 'Longitude', 'Latitude', 'Neighborhood', 'NPU',\n",
      "       'Council District', 'UCR Grouping', 'Victim Count', 'GlobalID', 'x',\n",
      "       'y'],\n",
      "      dtype='object')\n"
     ]
    }
   ],
   "source": [
    "# Print column names\n",
    "print(df.columns)"
   ]
  },
  {
   "cell_type": "code",
   "execution_count": 7,
   "id": "77807f41-7ed4-4792-bddf-f32bee075713",
   "metadata": {},
   "outputs": [
    {
     "name": "stdout",
     "output_type": "stream",
     "text": [
      "Head of column x:\n",
      "0   -84.371743\n",
      "1   -84.416631\n",
      "2   -84.392803\n",
      "3   -84.361660\n",
      "4   -84.462521\n",
      "Name: x, dtype: float64\n",
      "\n",
      "Head of column y:\n",
      "0    33.757320\n",
      "1    33.755768\n",
      "2    33.722882\n",
      "3    33.819430\n",
      "4    33.773181\n",
      "Name: y, dtype: float64\n"
     ]
    }
   ],
   "source": [
    "# Geospatial coordinates\n",
    "# Display the head of column x\n",
    "print(\"Head of column x:\")\n",
    "print(df['x'].head())\n",
    "\n",
    "# Display the head of column y\n",
    "print(\"\\nHead of column y:\")\n",
    "print(df['y'].head())"
   ]
  },
  {
   "cell_type": "markdown",
   "id": "9788e473-4b6f-4748-bfea-d6fe4d17c6d7",
   "metadata": {},
   "source": [
    "### Convert Index Value Data Type to String"
   ]
  },
  {
   "cell_type": "code",
   "execution_count": 8,
   "id": "e07610b9-a9e8-451c-aab0-834b85e63d28",
   "metadata": {},
   "outputs": [
    {
     "name": "stdout",
     "output_type": "stream",
     "text": [
      "None\n"
     ]
    }
   ],
   "source": [
    "# Print the name of the index column\n",
    "print(df.index.name)"
   ]
  },
  {
   "cell_type": "code",
   "execution_count": null,
   "id": "3d03c58e-c18c-42d7-9333-613aa6e2d066",
   "metadata": {},
   "outputs": [],
   "source": [
    "\n"
   ]
  },
  {
   "cell_type": "code",
   "execution_count": 9,
   "id": "8c4dd85a-33e7-4c7b-9366-4051838efcfe",
   "metadata": {},
   "outputs": [
    {
     "name": "stdout",
     "output_type": "stream",
     "text": [
      "int64\n"
     ]
    }
   ],
   "source": [
    "# Print the data type of the index\n",
    "print(df.index.dtype)"
   ]
  },
  {
   "cell_type": "code",
   "execution_count": 10,
   "id": "ea381386-f6d4-479c-8666-330fdffae3a8",
   "metadata": {},
   "outputs": [],
   "source": [
    "# Convert index values to string\n",
    "df.index = df.index.astype(str)"
   ]
  },
  {
   "cell_type": "code",
   "execution_count": 11,
   "id": "0b2770a8-c818-4033-95ef-8dd17402f400",
   "metadata": {},
   "outputs": [
    {
     "name": "stdout",
     "output_type": "stream",
     "text": [
      "object\n"
     ]
    }
   ],
   "source": [
    "# Print the data type of the index\n",
    "print(df.index.dtype)"
   ]
  },
  {
   "cell_type": "code",
   "execution_count": 12,
   "id": "800c1563-3774-4ea5-8963-63de4065c8fa",
   "metadata": {},
   "outputs": [
    {
     "name": "stdout",
     "output_type": "stream",
     "text": [
      "Index(['0', '1', '2', '3', '4', '5', '6', '7', '8', '9',\n",
      "       ...\n",
      "       '141693', '141694', '141695', '141696', '141697', '141698', '141699',\n",
      "       '141700', '141701', '141702'],\n",
      "      dtype='object', length=141703)\n"
     ]
    }
   ],
   "source": [
    "# Print the index of the DataFrame\n",
    "print(df.index)"
   ]
  },
  {
   "cell_type": "code",
   "execution_count": 13,
   "id": "731403de-eacc-42c3-b109-6279e395f953",
   "metadata": {},
   "outputs": [
    {
     "name": "stdout",
     "output_type": "stream",
     "text": [
      "Index(['OBJECTID', 'Report Number', 'Report Date', 'Offense Start Date',\n",
      "       'Offense End Date', 'Day of the week', 'Day Number', 'Zone', 'Beat',\n",
      "       'Location', 'Location Type', 'NIBRS Code', 'NIBRS Code Name',\n",
      "       'Crime Against', 'Was a firearm involved?', 'Press Release',\n",
      "       'Social Media', 'Watch', 'Longitude', 'Latitude', 'Neighborhood', 'NPU',\n",
      "       'Council District', 'UCR Grouping', 'Victim Count', 'GlobalID', 'x',\n",
      "       'y'],\n",
      "      dtype='object')\n"
     ]
    }
   ],
   "source": [
    "# Print column names\n",
    "print(df.columns)"
   ]
  },
  {
   "cell_type": "code",
   "execution_count": 14,
   "id": "18c04842-1da2-4b80-aeee-50723dd22cef",
   "metadata": {},
   "outputs": [
    {
     "name": "stdout",
     "output_type": "stream",
     "text": [
      "object\n"
     ]
    }
   ],
   "source": [
    "# Print the data type of the index\n",
    "print(df.index.dtype)"
   ]
  },
  {
   "cell_type": "markdown",
   "id": "f15a5ac1-9333-427b-9439-145b8167e18d",
   "metadata": {},
   "source": [
    "### Extrapolate Geospatial Coordinates as New Tables"
   ]
  },
  {
   "cell_type": "code",
   "execution_count": 15,
   "id": "3786cf1e-b793-4e97-a5f3-cfe958b3cd77",
   "metadata": {},
   "outputs": [
    {
     "name": "stdout",
     "output_type": "stream",
     "text": [
      "           x          y\n",
      "0 -84.371743  33.757320\n",
      "1 -84.416631  33.755768\n",
      "2 -84.392803  33.722882\n",
      "3 -84.361660  33.819430\n",
      "4 -84.462521  33.773181\n"
     ]
    }
   ],
   "source": [
    "# Create a new DataFrame with index and specific columns\n",
    "geospatial_data_df = df.loc[:, ['x', 'y']]\n",
    "print(geospatial_data_df.head())\n"
   ]
  },
  {
   "cell_type": "markdown",
   "id": "00ae34c8-4131-4b81-bfc6-0bc45b04ee16",
   "metadata": {},
   "source": [
    "### New DF for Contextual Incident Attributes(No Geospatial Coordinates)"
   ]
  },
  {
   "cell_type": "code",
   "execution_count": 16,
   "id": "8395244e-0a93-472c-a768-784a217e113b",
   "metadata": {},
   "outputs": [
    {
     "name": "stdout",
     "output_type": "stream",
     "text": [
      "   OBJECTID  Report Number            Report Date     Offense Start Date  \\\n",
      "0         1       21365171  12/31/2021 8:20:15 AM  12/31/2021 7:15:00 AM   \n",
      "1         2       21791668  6/29/2021 12:58:09 AM   6/28/2021 1:17:00 AM   \n",
      "2         3       22041413   2/14/2022 8:26:21 PM   1/25/2022 1:50:00 PM   \n",
      "3         4      193390123  6/24/2021 10:14:31 AM   12/5/2019 6:14:00 AM   \n",
      "4         5      202771329   8/19/2021 9:53:50 PM   10/3/2020 8:29:00 PM   \n",
      "\n",
      "        Offense End Date Day of the week  Day Number  Zone Beat  \\\n",
      "0  12/31/2021 7:45:00 AM          Friday           6     6  604   \n",
      "1  6/29/2021 12:00:00 AM          Sunday           1     1  102   \n",
      "2   1/25/2022 2:15:00 PM         Tuesday           3     3  304   \n",
      "3   12/5/2019 6:40:00 AM        Thursday           5     2  211   \n",
      "4   10/3/2020 8:29:00 PM        Saturday           7     1  109   \n",
      "\n",
      "                  Location  ... Social Media          Watch  Longitude  \\\n",
      "0         111 BOULEVARD NE  ...          NaN  Morning Watch -84.371743   \n",
      "1  870 MAYSON TURNER RD NW  ...          NaN  Evening Watch -84.416631   \n",
      "2         1192 PRYOR RD SW  ...          NaN      Day Watch -84.392803   \n",
      "3        I-85 S / GA-400 S  ...          NaN  Morning Watch -84.361660   \n",
      "4       665 S GRAND AVE NW  ...          NaN  Evening Watch -84.462521   \n",
      "\n",
      "    Latitude       Neighborhood NPU Council District UCR Grouping  \\\n",
      "0  33.757320    Old Fourth Ward   M              2.0      Part II   \n",
      "1  33.755768          Vine City   L              3.0       Part I   \n",
      "2  33.722882        Peoplestown   V             12.0      Part II   \n",
      "3  33.819430  Lindbergh/Morosgo   B              6.0      Part II   \n",
      "4  33.773181        Center Hill   J              9.0       Part I   \n",
      "\n",
      "   Victim Count                              GlobalID  \n",
      "0           NaN  7e30cbbb-4392-47ba-8311-b1ad817105e9  \n",
      "1           NaN  104a1262-ef8a-4478-b776-1594a7206307  \n",
      "2           1.0  5784d36f-0839-4795-9d8b-370e59eb72b0  \n",
      "3           NaN  6217e790-ded9-421c-9ac1-eb31f53f0894  \n",
      "4           1.0  44add9cf-98ce-4910-8884-ab3c9b3fbaf7  \n",
      "\n",
      "[5 rows x 26 columns]\n"
     ]
    }
   ],
   "source": [
    "# Create a new DataFrame without 'x' and 'y' columns and name it crime_context_df\n",
    "crime_context_df = df.drop(columns=['x', 'y'])\n",
    "\n",
    "print(crime_context_df.head())\n"
   ]
  },
  {
   "cell_type": "markdown",
   "id": "cf0d7b20-bb15-496c-b302-8846c7c4e26c",
   "metadata": {},
   "source": [
    "### Experiments - Visualization"
   ]
  },
  {
   "cell_type": "markdown",
   "id": "a810cd64-5e9a-4566-a57a-1987b210e5bd",
   "metadata": {},
   "source": [
    "#### List all DFs In Notebook"
   ]
  },
  {
   "cell_type": "code",
   "execution_count": 17,
   "id": "2cee1a1f-fc94-47ef-a50e-8d7a24261e38",
   "metadata": {},
   "outputs": [
    {
     "name": "stdout",
     "output_type": "stream",
     "text": [
      "['_', '__', 'df', '_3', '_5', 'geospatial_data_df', 'crime_context_df']\n"
     ]
    }
   ],
   "source": [
    "# Get a list of DataFrame names in the current notebook\n",
    "dataframe_names = [name for name, obj in globals().items() if isinstance(obj, pd.DataFrame)]\n",
    "\n",
    "# Print the list of DataFrame names\n",
    "print(dataframe_names)\n",
    "\n",
    "# print(df)"
   ]
  },
  {
   "cell_type": "code",
   "execution_count": 18,
   "id": "deb3cd2c-b777-4462-9a78-0e4e24266726",
   "metadata": {},
   "outputs": [
    {
     "name": "stdout",
     "output_type": "stream",
     "text": [
      "                x          y\n",
      "5004   -91.155152  30.485819\n",
      "24035  -84.782130  34.767350\n",
      "3650   -84.680825  33.684850\n",
      "118435 -84.594561  33.808106\n",
      "107063 -84.558652  33.661789\n",
      "...           ...        ...\n",
      "5120   -83.936982  33.914235\n",
      "19588  -83.848190  34.933968\n",
      "25929  -82.405256  31.230835\n",
      "11750  -81.983025  28.077056\n",
      "24864  -74.117852  40.607613\n",
      "\n",
      "[141703 rows x 2 columns]\n"
     ]
    }
   ],
   "source": [
    "# Sort the DataFrame based on the 'x' and 'y' columns in ascending order\n",
    "geospatial_data_df_sorted = geospatial_data_df.sort_values(by=['x', 'y'])\n",
    "\n",
    "# Display the sorted DataFrame\n",
    "print(geospatial_data_df_sorted)"
   ]
  },
  {
   "cell_type": "code",
   "execution_count": 19,
   "id": "d8bfbdb3-60ac-435f-bcab-bf512bdb38a7",
   "metadata": {},
   "outputs": [
    {
     "ename": "ValueError",
     "evalue": "Contour levels must be increasing",
     "output_type": "error",
     "traceback": [
      "\u001b[0;31m---------------------------------------------------------------------------\u001b[0m",
      "\u001b[0;31mValueError\u001b[0m                                Traceback (most recent call last)",
      "Cell \u001b[0;32mIn[19], line 6\u001b[0m\n\u001b[1;32m      4\u001b[0m \u001b[38;5;66;03m# Create a heatmap of crime density\u001b[39;00m\n\u001b[1;32m      5\u001b[0m plt\u001b[38;5;241m.\u001b[39mfigure(figsize\u001b[38;5;241m=\u001b[39m(\u001b[38;5;241m10\u001b[39m, \u001b[38;5;241m8\u001b[39m))\n\u001b[0;32m----> 6\u001b[0m \u001b[43msns\u001b[49m\u001b[38;5;241;43m.\u001b[39;49m\u001b[43mkdeplot\u001b[49m\u001b[43m(\u001b[49m\u001b[43mdata\u001b[49m\u001b[38;5;241;43m=\u001b[39;49m\u001b[43mgeospatial_data_df_sorted\u001b[49m\u001b[43m,\u001b[49m\u001b[43m \u001b[49m\u001b[43mx\u001b[49m\u001b[38;5;241;43m=\u001b[39;49m\u001b[38;5;124;43m'\u001b[39;49m\u001b[38;5;124;43mx\u001b[39;49m\u001b[38;5;124;43m'\u001b[39;49m\u001b[43m,\u001b[49m\u001b[43m \u001b[49m\u001b[43my\u001b[49m\u001b[38;5;241;43m=\u001b[39;49m\u001b[38;5;124;43m'\u001b[39;49m\u001b[38;5;124;43my\u001b[39;49m\u001b[38;5;124;43m'\u001b[39;49m\u001b[43m,\u001b[49m\u001b[43m \u001b[49m\u001b[43mcmap\u001b[49m\u001b[38;5;241;43m=\u001b[39;49m\u001b[38;5;124;43m'\u001b[39;49m\u001b[38;5;124;43mviridis\u001b[39;49m\u001b[38;5;124;43m'\u001b[39;49m\u001b[43m,\u001b[49m\u001b[43m \u001b[49m\u001b[43mfill\u001b[49m\u001b[38;5;241;43m=\u001b[39;49m\u001b[38;5;28;43;01mTrue\u001b[39;49;00m\u001b[43m,\u001b[49m\u001b[43m \u001b[49m\u001b[43mlevels\u001b[49m\u001b[38;5;241;43m=\u001b[39;49m\u001b[38;5;241;43m200\u001b[39;49m\u001b[43m,\u001b[49m\u001b[43m \u001b[49m\u001b[43mthresh\u001b[49m\u001b[38;5;241;43m=\u001b[39;49m\u001b[38;5;241;43m0.05\u001b[39;49m\u001b[43m)\u001b[49m\n\u001b[1;32m      7\u001b[0m plt\u001b[38;5;241m.\u001b[39mtitle(\u001b[38;5;124m'\u001b[39m\u001b[38;5;124mCrime Density Heatmap\u001b[39m\u001b[38;5;124m'\u001b[39m)\n\u001b[1;32m      8\u001b[0m plt\u001b[38;5;241m.\u001b[39mxlabel(\u001b[38;5;124m'\u001b[39m\u001b[38;5;124mx\u001b[39m\u001b[38;5;124m'\u001b[39m)\n",
      "File \u001b[0;32m~/.local/lib/python3.10/site-packages/seaborn/distributions.py:1715\u001b[0m, in \u001b[0;36mkdeplot\u001b[0;34m(data, x, y, hue, weights, palette, hue_order, hue_norm, color, fill, multiple, common_norm, common_grid, cumulative, bw_method, bw_adjust, warn_singular, log_scale, levels, thresh, gridsize, cut, clip, legend, cbar, cbar_ax, cbar_kws, ax, **kwargs)\u001b[0m\n\u001b[1;32m   1701\u001b[0m     p\u001b[38;5;241m.\u001b[39mplot_univariate_density(\n\u001b[1;32m   1702\u001b[0m         multiple\u001b[38;5;241m=\u001b[39mmultiple,\n\u001b[1;32m   1703\u001b[0m         common_norm\u001b[38;5;241m=\u001b[39mcommon_norm,\n\u001b[0;32m   (...)\u001b[0m\n\u001b[1;32m   1710\u001b[0m         \u001b[38;5;241m*\u001b[39m\u001b[38;5;241m*\u001b[39mplot_kws,\n\u001b[1;32m   1711\u001b[0m     )\n\u001b[1;32m   1713\u001b[0m \u001b[38;5;28;01melse\u001b[39;00m:\n\u001b[0;32m-> 1715\u001b[0m     \u001b[43mp\u001b[49m\u001b[38;5;241;43m.\u001b[39;49m\u001b[43mplot_bivariate_density\u001b[49m\u001b[43m(\u001b[49m\n\u001b[1;32m   1716\u001b[0m \u001b[43m        \u001b[49m\u001b[43mcommon_norm\u001b[49m\u001b[38;5;241;43m=\u001b[39;49m\u001b[43mcommon_norm\u001b[49m\u001b[43m,\u001b[49m\n\u001b[1;32m   1717\u001b[0m \u001b[43m        \u001b[49m\u001b[43mfill\u001b[49m\u001b[38;5;241;43m=\u001b[39;49m\u001b[43mfill\u001b[49m\u001b[43m,\u001b[49m\n\u001b[1;32m   1718\u001b[0m \u001b[43m        \u001b[49m\u001b[43mlevels\u001b[49m\u001b[38;5;241;43m=\u001b[39;49m\u001b[43mlevels\u001b[49m\u001b[43m,\u001b[49m\n\u001b[1;32m   1719\u001b[0m \u001b[43m        \u001b[49m\u001b[43mthresh\u001b[49m\u001b[38;5;241;43m=\u001b[39;49m\u001b[43mthresh\u001b[49m\u001b[43m,\u001b[49m\n\u001b[1;32m   1720\u001b[0m \u001b[43m        \u001b[49m\u001b[43mlegend\u001b[49m\u001b[38;5;241;43m=\u001b[39;49m\u001b[43mlegend\u001b[49m\u001b[43m,\u001b[49m\n\u001b[1;32m   1721\u001b[0m \u001b[43m        \u001b[49m\u001b[43mcolor\u001b[49m\u001b[38;5;241;43m=\u001b[39;49m\u001b[43mcolor\u001b[49m\u001b[43m,\u001b[49m\n\u001b[1;32m   1722\u001b[0m \u001b[43m        \u001b[49m\u001b[43mwarn_singular\u001b[49m\u001b[38;5;241;43m=\u001b[39;49m\u001b[43mwarn_singular\u001b[49m\u001b[43m,\u001b[49m\n\u001b[1;32m   1723\u001b[0m \u001b[43m        \u001b[49m\u001b[43mcbar\u001b[49m\u001b[38;5;241;43m=\u001b[39;49m\u001b[43mcbar\u001b[49m\u001b[43m,\u001b[49m\n\u001b[1;32m   1724\u001b[0m \u001b[43m        \u001b[49m\u001b[43mcbar_ax\u001b[49m\u001b[38;5;241;43m=\u001b[39;49m\u001b[43mcbar_ax\u001b[49m\u001b[43m,\u001b[49m\n\u001b[1;32m   1725\u001b[0m \u001b[43m        \u001b[49m\u001b[43mcbar_kws\u001b[49m\u001b[38;5;241;43m=\u001b[39;49m\u001b[43mcbar_kws\u001b[49m\u001b[43m,\u001b[49m\n\u001b[1;32m   1726\u001b[0m \u001b[43m        \u001b[49m\u001b[43mestimate_kws\u001b[49m\u001b[38;5;241;43m=\u001b[39;49m\u001b[43mestimate_kws\u001b[49m\u001b[43m,\u001b[49m\n\u001b[1;32m   1727\u001b[0m \u001b[43m        \u001b[49m\u001b[38;5;241;43m*\u001b[39;49m\u001b[38;5;241;43m*\u001b[39;49m\u001b[43mkwargs\u001b[49m\u001b[43m,\u001b[49m\n\u001b[1;32m   1728\u001b[0m \u001b[43m    \u001b[49m\u001b[43m)\u001b[49m\n\u001b[1;32m   1730\u001b[0m \u001b[38;5;28;01mreturn\u001b[39;00m ax\n",
      "File \u001b[0;32m~/.local/lib/python3.10/site-packages/seaborn/distributions.py:1176\u001b[0m, in \u001b[0;36m_DistributionPlotter.plot_bivariate_density\u001b[0;34m(self, common_norm, fill, levels, thresh, color, legend, cbar, warn_singular, cbar_ax, cbar_kws, estimate_kws, **contour_kws)\u001b[0m\n\u001b[1;32m   1173\u001b[0m \u001b[38;5;66;03m# Pop the label kwarg which is unused by contour_func (but warns)\u001b[39;00m\n\u001b[1;32m   1174\u001b[0m contour_kws\u001b[38;5;241m.\u001b[39mpop(\u001b[38;5;124m\"\u001b[39m\u001b[38;5;124mlabel\u001b[39m\u001b[38;5;124m\"\u001b[39m, \u001b[38;5;28;01mNone\u001b[39;00m)\n\u001b[0;32m-> 1176\u001b[0m cset \u001b[38;5;241m=\u001b[39m \u001b[43mcontour_func\u001b[49m\u001b[43m(\u001b[49m\n\u001b[1;32m   1177\u001b[0m \u001b[43m    \u001b[49m\u001b[43mxx\u001b[49m\u001b[43m,\u001b[49m\u001b[43m \u001b[49m\u001b[43myy\u001b[49m\u001b[43m,\u001b[49m\u001b[43m \u001b[49m\u001b[43mdensity\u001b[49m\u001b[43m,\u001b[49m\n\u001b[1;32m   1178\u001b[0m \u001b[43m    \u001b[49m\u001b[43mlevels\u001b[49m\u001b[38;5;241;43m=\u001b[39;49m\u001b[43mdraw_levels\u001b[49m\u001b[43m[\u001b[49m\u001b[43mkey\u001b[49m\u001b[43m]\u001b[49m\u001b[43m,\u001b[49m\n\u001b[1;32m   1179\u001b[0m \u001b[43m    \u001b[49m\u001b[38;5;241;43m*\u001b[39;49m\u001b[38;5;241;43m*\u001b[39;49m\u001b[43mcontour_kws\u001b[49m\u001b[43m,\u001b[49m\n\u001b[1;32m   1180\u001b[0m \u001b[43m\u001b[49m\u001b[43m)\u001b[49m\n\u001b[1;32m   1182\u001b[0m \u001b[38;5;66;03m# Add a color bar representing the contour heights\u001b[39;00m\n\u001b[1;32m   1183\u001b[0m \u001b[38;5;66;03m# Note: this shows iso densities, not iso proportions\u001b[39;00m\n\u001b[1;32m   1184\u001b[0m \u001b[38;5;66;03m# See more notes in histplot about how this could be improved\u001b[39;00m\n\u001b[1;32m   1185\u001b[0m \u001b[38;5;28;01mif\u001b[39;00m cbar:\n",
      "File \u001b[0;32m~/.local/lib/python3.10/site-packages/matplotlib/__init__.py:1473\u001b[0m, in \u001b[0;36m_preprocess_data.<locals>.inner\u001b[0;34m(ax, data, *args, **kwargs)\u001b[0m\n\u001b[1;32m   1470\u001b[0m \u001b[38;5;129m@functools\u001b[39m\u001b[38;5;241m.\u001b[39mwraps(func)\n\u001b[1;32m   1471\u001b[0m \u001b[38;5;28;01mdef\u001b[39;00m \u001b[38;5;21minner\u001b[39m(ax, \u001b[38;5;241m*\u001b[39margs, data\u001b[38;5;241m=\u001b[39m\u001b[38;5;28;01mNone\u001b[39;00m, \u001b[38;5;241m*\u001b[39m\u001b[38;5;241m*\u001b[39mkwargs):\n\u001b[1;32m   1472\u001b[0m     \u001b[38;5;28;01mif\u001b[39;00m data \u001b[38;5;129;01mis\u001b[39;00m \u001b[38;5;28;01mNone\u001b[39;00m:\n\u001b[0;32m-> 1473\u001b[0m         \u001b[38;5;28;01mreturn\u001b[39;00m \u001b[43mfunc\u001b[49m\u001b[43m(\u001b[49m\n\u001b[1;32m   1474\u001b[0m \u001b[43m            \u001b[49m\u001b[43max\u001b[49m\u001b[43m,\u001b[49m\n\u001b[1;32m   1475\u001b[0m \u001b[43m            \u001b[49m\u001b[38;5;241;43m*\u001b[39;49m\u001b[38;5;28;43mmap\u001b[39;49m\u001b[43m(\u001b[49m\u001b[43msanitize_sequence\u001b[49m\u001b[43m,\u001b[49m\u001b[43m \u001b[49m\u001b[43margs\u001b[49m\u001b[43m)\u001b[49m\u001b[43m,\u001b[49m\n\u001b[1;32m   1476\u001b[0m \u001b[43m            \u001b[49m\u001b[38;5;241;43m*\u001b[39;49m\u001b[38;5;241;43m*\u001b[39;49m\u001b[43m{\u001b[49m\u001b[43mk\u001b[49m\u001b[43m:\u001b[49m\u001b[43m \u001b[49m\u001b[43msanitize_sequence\u001b[49m\u001b[43m(\u001b[49m\u001b[43mv\u001b[49m\u001b[43m)\u001b[49m\u001b[43m \u001b[49m\u001b[38;5;28;43;01mfor\u001b[39;49;00m\u001b[43m \u001b[49m\u001b[43mk\u001b[49m\u001b[43m,\u001b[49m\u001b[43m \u001b[49m\u001b[43mv\u001b[49m\u001b[43m \u001b[49m\u001b[38;5;129;43;01min\u001b[39;49;00m\u001b[43m \u001b[49m\u001b[43mkwargs\u001b[49m\u001b[38;5;241;43m.\u001b[39;49m\u001b[43mitems\u001b[49m\u001b[43m(\u001b[49m\u001b[43m)\u001b[49m\u001b[43m}\u001b[49m\u001b[43m)\u001b[49m\n\u001b[1;32m   1478\u001b[0m     bound \u001b[38;5;241m=\u001b[39m new_sig\u001b[38;5;241m.\u001b[39mbind(ax, \u001b[38;5;241m*\u001b[39margs, \u001b[38;5;241m*\u001b[39m\u001b[38;5;241m*\u001b[39mkwargs)\n\u001b[1;32m   1479\u001b[0m     auto_label \u001b[38;5;241m=\u001b[39m (bound\u001b[38;5;241m.\u001b[39marguments\u001b[38;5;241m.\u001b[39mget(label_namer)\n\u001b[1;32m   1480\u001b[0m                   \u001b[38;5;129;01mor\u001b[39;00m bound\u001b[38;5;241m.\u001b[39mkwargs\u001b[38;5;241m.\u001b[39mget(label_namer))\n",
      "File \u001b[0;32m~/.local/lib/python3.10/site-packages/matplotlib/axes/_axes.py:6675\u001b[0m, in \u001b[0;36mAxes.contourf\u001b[0;34m(self, *args, **kwargs)\u001b[0m\n\u001b[1;32m   6666\u001b[0m \u001b[38;5;250m\u001b[39m\u001b[38;5;124;03m\"\"\"\u001b[39;00m\n\u001b[1;32m   6667\u001b[0m \u001b[38;5;124;03mPlot filled contours.\u001b[39;00m\n\u001b[1;32m   6668\u001b[0m \n\u001b[0;32m   (...)\u001b[0m\n\u001b[1;32m   6672\u001b[0m \u001b[38;5;124;03m%(contour_doc)s\u001b[39;00m\n\u001b[1;32m   6673\u001b[0m \u001b[38;5;124;03m\"\"\"\u001b[39;00m\n\u001b[1;32m   6674\u001b[0m kwargs[\u001b[38;5;124m'\u001b[39m\u001b[38;5;124mfilled\u001b[39m\u001b[38;5;124m'\u001b[39m] \u001b[38;5;241m=\u001b[39m \u001b[38;5;28;01mTrue\u001b[39;00m\n\u001b[0;32m-> 6675\u001b[0m contours \u001b[38;5;241m=\u001b[39m \u001b[43mmcontour\u001b[49m\u001b[38;5;241;43m.\u001b[39;49m\u001b[43mQuadContourSet\u001b[49m\u001b[43m(\u001b[49m\u001b[38;5;28;43mself\u001b[39;49m\u001b[43m,\u001b[49m\u001b[43m \u001b[49m\u001b[38;5;241;43m*\u001b[39;49m\u001b[43margs\u001b[49m\u001b[43m,\u001b[49m\u001b[43m \u001b[49m\u001b[38;5;241;43m*\u001b[39;49m\u001b[38;5;241;43m*\u001b[39;49m\u001b[43mkwargs\u001b[49m\u001b[43m)\u001b[49m\n\u001b[1;32m   6676\u001b[0m \u001b[38;5;28mself\u001b[39m\u001b[38;5;241m.\u001b[39m_request_autoscale_view()\n\u001b[1;32m   6677\u001b[0m \u001b[38;5;28;01mreturn\u001b[39;00m contours\n",
      "File \u001b[0;32m~/.local/lib/python3.10/site-packages/matplotlib/contour.py:813\u001b[0m, in \u001b[0;36mContourSet.__init__\u001b[0;34m(self, ax, levels, filled, linewidths, linestyles, hatches, alpha, origin, extent, cmap, colors, norm, vmin, vmax, extend, antialiased, nchunk, locator, transform, negative_linestyles, clip_path, *args, **kwargs)\u001b[0m\n\u001b[1;32m    809\u001b[0m \u001b[38;5;28;01mif\u001b[39;00m \u001b[38;5;28mself\u001b[39m\u001b[38;5;241m.\u001b[39mnegative_linestyles \u001b[38;5;129;01mis\u001b[39;00m \u001b[38;5;28;01mNone\u001b[39;00m:\n\u001b[1;32m    810\u001b[0m     \u001b[38;5;28mself\u001b[39m\u001b[38;5;241m.\u001b[39mnegative_linestyles \u001b[38;5;241m=\u001b[39m \\\n\u001b[1;32m    811\u001b[0m         mpl\u001b[38;5;241m.\u001b[39mrcParams[\u001b[38;5;124m'\u001b[39m\u001b[38;5;124mcontour.negative_linestyle\u001b[39m\u001b[38;5;124m'\u001b[39m]\n\u001b[0;32m--> 813\u001b[0m kwargs \u001b[38;5;241m=\u001b[39m \u001b[38;5;28;43mself\u001b[39;49m\u001b[38;5;241;43m.\u001b[39;49m\u001b[43m_process_args\u001b[49m\u001b[43m(\u001b[49m\u001b[38;5;241;43m*\u001b[39;49m\u001b[43margs\u001b[49m\u001b[43m,\u001b[49m\u001b[43m \u001b[49m\u001b[38;5;241;43m*\u001b[39;49m\u001b[38;5;241;43m*\u001b[39;49m\u001b[43mkwargs\u001b[49m\u001b[43m)\u001b[49m\n\u001b[1;32m    814\u001b[0m \u001b[38;5;28mself\u001b[39m\u001b[38;5;241m.\u001b[39m_process_levels()\n\u001b[1;32m    816\u001b[0m \u001b[38;5;28mself\u001b[39m\u001b[38;5;241m.\u001b[39m_extend_min \u001b[38;5;241m=\u001b[39m \u001b[38;5;28mself\u001b[39m\u001b[38;5;241m.\u001b[39mextend \u001b[38;5;129;01min\u001b[39;00m [\u001b[38;5;124m'\u001b[39m\u001b[38;5;124mmin\u001b[39m\u001b[38;5;124m'\u001b[39m, \u001b[38;5;124m'\u001b[39m\u001b[38;5;124mboth\u001b[39m\u001b[38;5;124m'\u001b[39m]\n",
      "File \u001b[0;32m~/.local/lib/python3.10/site-packages/matplotlib/contour.py:1470\u001b[0m, in \u001b[0;36mQuadContourSet._process_args\u001b[0;34m(self, corner_mask, algorithm, *args, **kwargs)\u001b[0m\n\u001b[1;32m   1467\u001b[0m         corner_mask \u001b[38;5;241m=\u001b[39m mpl\u001b[38;5;241m.\u001b[39mrcParams[\u001b[38;5;124m'\u001b[39m\u001b[38;5;124mcontour.corner_mask\u001b[39m\u001b[38;5;124m'\u001b[39m]\n\u001b[1;32m   1468\u001b[0m \u001b[38;5;28mself\u001b[39m\u001b[38;5;241m.\u001b[39m_corner_mask \u001b[38;5;241m=\u001b[39m corner_mask\n\u001b[0;32m-> 1470\u001b[0m x, y, z \u001b[38;5;241m=\u001b[39m \u001b[38;5;28;43mself\u001b[39;49m\u001b[38;5;241;43m.\u001b[39;49m\u001b[43m_contour_args\u001b[49m\u001b[43m(\u001b[49m\u001b[43margs\u001b[49m\u001b[43m,\u001b[49m\u001b[43m \u001b[49m\u001b[43mkwargs\u001b[49m\u001b[43m)\u001b[49m\n\u001b[1;32m   1472\u001b[0m contour_generator \u001b[38;5;241m=\u001b[39m contourpy\u001b[38;5;241m.\u001b[39mcontour_generator(\n\u001b[1;32m   1473\u001b[0m     x, y, z, name\u001b[38;5;241m=\u001b[39m\u001b[38;5;28mself\u001b[39m\u001b[38;5;241m.\u001b[39m_algorithm, corner_mask\u001b[38;5;241m=\u001b[39m\u001b[38;5;28mself\u001b[39m\u001b[38;5;241m.\u001b[39m_corner_mask,\n\u001b[1;32m   1474\u001b[0m     line_type\u001b[38;5;241m=\u001b[39mcontourpy\u001b[38;5;241m.\u001b[39mLineType\u001b[38;5;241m.\u001b[39mSeparateCode,\n\u001b[1;32m   1475\u001b[0m     fill_type\u001b[38;5;241m=\u001b[39mcontourpy\u001b[38;5;241m.\u001b[39mFillType\u001b[38;5;241m.\u001b[39mOuterCode,\n\u001b[1;32m   1476\u001b[0m     chunk_size\u001b[38;5;241m=\u001b[39m\u001b[38;5;28mself\u001b[39m\u001b[38;5;241m.\u001b[39mnchunk)\n\u001b[1;32m   1478\u001b[0m t \u001b[38;5;241m=\u001b[39m \u001b[38;5;28mself\u001b[39m\u001b[38;5;241m.\u001b[39mget_transform()\n",
      "File \u001b[0;32m~/.local/lib/python3.10/site-packages/matplotlib/contour.py:1521\u001b[0m, in \u001b[0;36mQuadContourSet._contour_args\u001b[0;34m(self, args, kwargs)\u001b[0m\n\u001b[1;32m   1519\u001b[0m     _api\u001b[38;5;241m.\u001b[39mwarn_external(\u001b[38;5;124m'\u001b[39m\u001b[38;5;124mLog scale: values of z <= 0 have been masked\u001b[39m\u001b[38;5;124m'\u001b[39m)\n\u001b[1;32m   1520\u001b[0m     \u001b[38;5;28mself\u001b[39m\u001b[38;5;241m.\u001b[39mzmin \u001b[38;5;241m=\u001b[39m z\u001b[38;5;241m.\u001b[39mmin()\u001b[38;5;241m.\u001b[39mastype(\u001b[38;5;28mfloat\u001b[39m)\n\u001b[0;32m-> 1521\u001b[0m \u001b[38;5;28;43mself\u001b[39;49m\u001b[38;5;241;43m.\u001b[39;49m\u001b[43m_process_contour_level_args\u001b[49m\u001b[43m(\u001b[49m\u001b[43margs\u001b[49m\u001b[43m,\u001b[49m\u001b[43m \u001b[49m\u001b[43mz\u001b[49m\u001b[38;5;241;43m.\u001b[39;49m\u001b[43mdtype\u001b[49m\u001b[43m)\u001b[49m\n\u001b[1;32m   1522\u001b[0m \u001b[38;5;28;01mreturn\u001b[39;00m (x, y, z)\n",
      "File \u001b[0;32m~/.local/lib/python3.10/site-packages/matplotlib/contour.py:1185\u001b[0m, in \u001b[0;36mContourSet._process_contour_level_args\u001b[0;34m(self, args, z_dtype)\u001b[0m\n\u001b[1;32m   1183\u001b[0m     \u001b[38;5;28;01mraise\u001b[39;00m \u001b[38;5;167;01mValueError\u001b[39;00m(\u001b[38;5;124m\"\u001b[39m\u001b[38;5;124mFilled contours require at least 2 levels.\u001b[39m\u001b[38;5;124m\"\u001b[39m)\n\u001b[1;32m   1184\u001b[0m \u001b[38;5;28;01mif\u001b[39;00m \u001b[38;5;28mlen\u001b[39m(\u001b[38;5;28mself\u001b[39m\u001b[38;5;241m.\u001b[39mlevels) \u001b[38;5;241m>\u001b[39m \u001b[38;5;241m1\u001b[39m \u001b[38;5;129;01mand\u001b[39;00m np\u001b[38;5;241m.\u001b[39mmin(np\u001b[38;5;241m.\u001b[39mdiff(\u001b[38;5;28mself\u001b[39m\u001b[38;5;241m.\u001b[39mlevels)) \u001b[38;5;241m<\u001b[39m\u001b[38;5;241m=\u001b[39m \u001b[38;5;241m0.0\u001b[39m:\n\u001b[0;32m-> 1185\u001b[0m     \u001b[38;5;28;01mraise\u001b[39;00m \u001b[38;5;167;01mValueError\u001b[39;00m(\u001b[38;5;124m\"\u001b[39m\u001b[38;5;124mContour levels must be increasing\u001b[39m\u001b[38;5;124m\"\u001b[39m)\n",
      "\u001b[0;31mValueError\u001b[0m: Contour levels must be increasing"
     ]
    },
    {
     "data": {
      "image/png": "[encoded data removed]",
      "text/plain": [
       "<Figure size 1000x800 with 1 Axes>"
      ]
     },
     "metadata": {},
     "output_type": "display_data"
    }
   ],
   "source": [
    "import seaborn as sns\n",
    "import matplotlib.pyplot as plt\n",
    "\n",
    "# Create a heatmap of crime density\n",
    "plt.figure(figsize=(10, 8))\n",
    "sns.kdeplot(data=geospatial_data_df_sorted, x='x', y='y', cmap='viridis', fill=True, levels=200, thresh=0.05)\n",
    "plt.title('Crime Density Heatmap')\n",
    "plt.xlabel('x')\n",
    "plt.ylabel('y')\n",
    "plt.show()\n",
    "\n",
    "\n",
    "# # Create a heatmap of crime density\n",
    "# plt.figure(figsize=(10, 8))\n",
    "# sns.kdeplot(data=df, x='x', y='y', cmap='viridis', fill=True)\n",
    "# plt.title('Crime Density Heatmap')\n",
    "# plt.xlabel('x')\n",
    "# plt.ylabel('y')\n",
    "# plt.show()\n"
   ]
  },
  {
   "cell_type": "code",
   "execution_count": null,
   "id": "ac9431be-8dfa-4c16-b31c-966780088710",
   "metadata": {},
   "outputs": [],
   "source": [
    "#### Spatial Clustering"
   ]
  },
  {
   "cell_type": "code",
   "execution_count": 20,
   "id": "93d7929f-2d08-4c48-9a90-4d8ec8ea47ab",
   "metadata": {},
   "outputs": [
    {
     "name": "stdout",
     "output_type": "stream",
     "text": [
      "Defaulting to user installation because normal site-packages is not writeable\n",
      "Requirement already satisfied: scikit-learn in /home/trauco/.local/lib/python3.10/site-packages (1.5.0)\n",
      "Requirement already satisfied: threadpoolctl>=3.1.0 in /home/trauco/.local/lib/python3.10/site-packages (from scikit-learn) (3.5.0)\n",
      "Requirement already satisfied: numpy>=1.19.5 in /home/trauco/.local/lib/python3.10/site-packages (from scikit-learn) (1.26.4)\n",
      "Requirement already satisfied: joblib>=1.2.0 in /home/trauco/.local/lib/python3.10/site-packages (from scikit-learn) (1.4.2)\n",
      "Requirement already satisfied: scipy>=1.6.0 in /home/trauco/.local/lib/python3.10/site-packages (from scikit-learn) (1.13.1)\n"
     ]
    }
   ],
   "source": [
    "!pip3 install scikit-learn\n"
   ]
  },
  {
   "cell_type": "code",
   "execution_count": null,
   "id": "d190b15c-1084-4863-8c77-89914169cd6a",
   "metadata": {},
   "outputs": [],
   "source": [
    "from sklearn.cluster import DBSCAN\n",
    "import matplotlib.pyplot as plt\n",
    "\n",
    "# Instantiate DBSCAN with appropriate parameters\n",
    "dbscan = DBSCAN(eps=0.1, min_samples=5)\n",
    "\n",
    "# Fit DBSCAN to the crime locations (x and y coordinates)\n",
    "crime_locations = geospatial_data_df[['x', 'y']]\n",
    "dbscan.fit(crime_locations)\n",
    "\n",
    "# Visualize the clusters\n",
    "plt.figure(figsize=(10, 8))\n",
    "plt.scatter(crime_locations['x'], crime_locations['y'], c=dbscan.labels_, cmap='viridis', alpha=0.5)\n",
    "plt.title('Spatial Clustering of Crime Locations')\n",
    "plt.xlabel('x')\n",
    "plt.ylabel('y')\n",
    "plt.colorbar(label='Cluster Label')\n",
    "plt.show()\n",
    "\n"
   ]
  },
  {
   "cell_type": "code",
   "execution_count": null,
   "id": "21804e38-744b-4992-ace9-5aa093606bfa",
   "metadata": {},
   "outputs": [],
   "source": []
  }
 ],
 "metadata": {
  "kernelspec": {
   "display_name": "Python 3 (ipykernel)",
   "language": "python",
   "name": "python3"
  },
  "language_info": {
   "codemirror_mode": {
    "name": "ipython",
    "version": 3
   },
   "file_extension": ".py",
   "mimetype": "text/x-python",
   "name": "python",
   "nbconvert_exporter": "python",
   "pygments_lexer": "ipython3",
   "version": "3.10.12"
  }
 },
 "nbformat": 4,
 "nbformat_minor": 5
}
